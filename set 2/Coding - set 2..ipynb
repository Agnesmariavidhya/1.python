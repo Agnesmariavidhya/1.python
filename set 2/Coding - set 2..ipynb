{
 "cells": [
  {
   "cell_type": "code",
   "execution_count": 2,
   "id": "aba1475d",
   "metadata": {},
   "outputs": [
    {
     "name": "stdout",
     "output_type": "stream",
     "text": [
      "olleh\n"
     ]
    }
   ],
   "source": [
    "#1.Write a Python program to find the reverse of a string. Expected Output (for input \"hello\"):\n",
    "#olleh \n",
    "word=\"hello\"\n",
    "reverse=word[::-1]\n",
    "print(reverse)\n"
   ]
  },
  {
   "cell_type": "code",
   "execution_count": 4,
   "id": "5b1ec143",
   "metadata": {},
   "outputs": [
    {
     "name": "stdout",
     "output_type": "stream",
     "text": [
      "0 1 1 2 3 5 8 13 21 34 "
     ]
    }
   ],
   "source": [
    "#2.Write a Python program to generate the Fibonacci sequence up to 10 terms.\n",
    "#Expected Output:\n",
    "#0 1 1 2 3 5 8 13 21 34\n",
    "n=10\n",
    "num1=0\n",
    "num2=1\n",
    "for i in range(n):\n",
    "    print(num1,end=\" \")\n",
    "    next=num1+num2\n",
    "    num1=num2\n",
    "    num2=next\n",
    "    \n",
    "    \n",
    "\n",
    "\n"
   ]
  },
  {
   "cell_type": "code",
   "execution_count": 7,
   "id": "c656f04a",
   "metadata": {},
   "outputs": [
    {
     "name": "stdin",
     "output_type": "stream",
     "text": [
      "Enter the word madam\n"
     ]
    },
    {
     "name": "stdout",
     "output_type": "stream",
     "text": [
      "madam is a palindrome\n"
     ]
    }
   ],
   "source": [
    "#3.Write a Python function to check if a given string is a palindrome.\n",
    "#Expected Output (for input \"madam\"):\n",
    "#madam is a palindrome\n",
    "word=input(\"Enter the word\")\n",
    "reverseWord=word[::-1]\n",
    "if(word==reverseWord):\n",
    "    print(word,\"is a palindrome\")\n",
    "else:\n",
    "    print(word,\"is not a palindrome\")\n",
    "          \n",
    "\n"
   ]
  },
  {
   "cell_type": "code",
   "execution_count": 19,
   "id": "cd7b0a78",
   "metadata": {},
   "outputs": [
    {
     "name": "stdout",
     "output_type": "stream",
     "text": [
      "number of vowels: 5\n"
     ]
    }
   ],
   "source": [
    "\n",
    "\n",
    "#4.Write a Python program to count the number of vowels in a given string. \n",
    "#Expected Output (for input \"education\"):\n",
    "\n",
    "#Number of vowels: 5\n",
    "text=\"education\"\n",
    "vowels=\"aeiou\"\n",
    "count=0\n",
    "for letter in text.lower():\n",
    "    if letter in vowels:\n",
    "        count=count+1  \n",
    "print(\"number of vowels:\",count)\n",
    "    \n",
    "\n",
    "\n",
    "\n",
    "\n"
   ]
  },
  {
   "cell_type": "code",
   "execution_count": 23,
   "id": "bdbb9b19",
   "metadata": {},
   "outputs": [
    {
     "name": "stdout",
     "output_type": "stream",
     "text": [
      "[1, 2, 3, 4, 5]\n"
     ]
    }
   ],
   "source": [
    "#5.Write a Python program to remove duplicates from a list.\n",
    "#3Expected Output (for input [1, 2, 2, 3, 4, 4, 5]):\n",
    "\n",
    " #[1, 2, 3, 4, 5]\n",
    "numbers=[1,2,2,3,4,4,5]\n",
    "new= list(set(numbers))\n",
    "print(new)\n",
    "\n",
    "\n"
   ]
  },
  {
   "cell_type": "code",
   "execution_count": null,
   "id": "fa516712-a4f4-4bff-856b-4ebad8aa4875",
   "metadata": {},
   "outputs": [],
   "source": []
  }
 ],
 "metadata": {
  "kernelspec": {
   "display_name": "Python [conda env:base] *",
   "language": "python",
   "name": "conda-base-py"
  },
  "language_info": {
   "codemirror_mode": {
    "name": "ipython",
    "version": 3
   },
   "file_extension": ".py",
   "mimetype": "text/x-python",
   "name": "python",
   "nbconvert_exporter": "python",
   "pygments_lexer": "ipython3",
   "version": "3.13.5"
  }
 },
 "nbformat": 4,
 "nbformat_minor": 5
}
