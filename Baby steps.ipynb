{
 "cells": [
  {
   "cell_type": "code",
   "execution_count": 1,
   "id": "72860ec3-42b4-4a59-94a1-faa09b5f0eeb",
   "metadata": {},
   "outputs": [
    {
     "name": "stdout",
     "output_type": "stream",
     "text": [
      "Welcome to Assignment-1\n"
     ]
    }
   ],
   "source": [
    "print(\"Welcome to Assignment-1\")"
   ]
  },
  {
   "cell_type": "code",
   "execution_count": 2,
   "id": "4300f662-c3e2-4a0b-9e2a-92bfcc626618",
   "metadata": {},
   "outputs": [
    {
     "name": "stdout",
     "output_type": "stream",
     "text": [
      "Num1= 10\n",
      "Num2= 30\n",
      "Add= 40\n"
     ]
    }
   ],
   "source": [
    "num1=10\n",
    "print(\"Num1=\",num1)\n",
    "num2=30\n",
    "print(\"Num2=\",num2)\n",
    "add=num1+num2\n",
    "print(\"Add=\",add)"
   ]
  },
  {
   "cell_type": "code",
   "execution_count": null,
   "id": "354fa56d-057b-4089-bda5-ac26818a7f0e",
   "metadata": {},
   "outputs": [],
   "source": [
    "#Body Mass Index"
   ]
  },
  {
   "cell_type": "code",
   "execution_count": 3,
   "id": "2a0a9f2d-082e-4bc6-84ac-9eccec32db6b",
   "metadata": {},
   "outputs": [
    {
     "name": "stdin",
     "output_type": "stream",
     "text": [
      "Enter the BMI Index: 34\n"
     ]
    },
    {
     "name": "stdout",
     "output_type": "stream",
     "text": [
      "Very Overweight\n"
     ]
    }
   ],
   "source": [
    "weight=float(input(\"Enter the BMI Index:\"))\n",
    "if(weight<18.5):\n",
    "    print(\"UnderWeight\")\n",
    "elif(weight<24.9):\n",
    "    print(\"NormalWeight\")\n",
    "elif(weight<29.9):\n",
    "    print(\"OverWeight\")\n",
    "else:\n",
    "    print(\"Very Overweight\")\n"
   ]
  },
  {
   "cell_type": "code",
   "execution_count": null,
   "id": "5a240766-e452-41c3-b081-e1738fd58d40",
   "metadata": {},
   "outputs": [],
   "source": []
  }
 ],
 "metadata": {
  "kernelspec": {
   "display_name": "Python [conda env:base] *",
   "language": "python",
   "name": "conda-base-py"
  },
  "language_info": {
   "codemirror_mode": {
    "name": "ipython",
    "version": 3
   },
   "file_extension": ".py",
   "mimetype": "text/x-python",
   "name": "python",
   "nbconvert_exporter": "python",
   "pygments_lexer": "ipython3",
   "version": "3.13.5"
  }
 },
 "nbformat": 4,
 "nbformat_minor": 5
}
