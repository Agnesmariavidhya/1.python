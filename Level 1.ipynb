{
 "cells": [
  {
   "cell_type": "code",
   "execution_count": null,
   "id": "97f6d894-6696-436b-bd0b-694c1525a719",
   "metadata": {},
   "outputs": [],
   "source": [
    "#print statement"
   ]
  },
  {
   "cell_type": "code",
   "execution_count": 1,
   "id": "1b4f1c7b-87a0-4750-bb1c-58562d1f6c65",
   "metadata": {},
   "outputs": [
    {
     "name": "stdout",
     "output_type": "stream",
     "text": [
      "HOPE AI\n"
     ]
    }
   ],
   "source": [
    "print(\"HOPE AI\")"
   ]
  },
  {
   "cell_type": "code",
   "execution_count": null,
   "id": "f87db8dc-1598-41fb-b66e-37a940e2bdb8",
   "metadata": {},
   "outputs": [],
   "source": [
    "#Buy input"
   ]
  },
  {
   "cell_type": "code",
   "execution_count": 2,
   "id": "f5c3914f-e724-446e-b377-8b782577f906",
   "metadata": {},
   "outputs": [
    {
     "name": "stdin",
     "output_type": "stream",
     "text": [
      "Enter your institute name? : HOPE AI\n"
     ]
    }
   ],
   "source": [
    "ins=input(\"Enter your institute name? :\")"
   ]
  },
  {
   "cell_type": "code",
   "execution_count": 3,
   "id": "08feecbf-e5bc-4892-ad9a-a56c95161052",
   "metadata": {},
   "outputs": [
    {
     "name": "stdin",
     "output_type": "stream",
     "text": [
      "Enter your name: Raj\n",
      "Enter your age: 15\n",
      "Enter your school: guru school\n",
      "Enter your degree: B.E CSE\n"
     ]
    }
   ],
   "source": [
    "name=input(\"Enter your name:\")\n",
    "age=input(\"Enter your age:\")\n",
    "school=input(\"Enter your school:\")\n",
    "degree=input(\"Enter your degree:\")"
   ]
  },
  {
   "cell_type": "code",
   "execution_count": null,
   "id": "053b0fbd-622c-4a26-aec7-490711680282",
   "metadata": {},
   "outputs": [],
   "source": [
    "#Addition"
   ]
  },
  {
   "cell_type": "code",
   "execution_count": 4,
   "id": "e7b47299-d784-4c3f-94d6-2bb2016498ca",
   "metadata": {},
   "outputs": [
    {
     "name": "stdout",
     "output_type": "stream",
     "text": [
      "a= 43\n",
      "b= 34\n",
      "add= 77\n"
     ]
    }
   ],
   "source": [
    "num1=43\n",
    "print(\"a=\",num1)\n",
    "num2=34\n",
    "print(\"b=\",num2)\n",
    "add=num1+num2\n",
    "print(\"add=\",add)\n",
    "      \n"
   ]
  },
  {
   "cell_type": "code",
   "execution_count": null,
   "id": "11c4e237-876d-421b-a411-9fb52e01eb3b",
   "metadata": {},
   "outputs": [],
   "source": [
    "#subtraction"
   ]
  },
  {
   "cell_type": "code",
   "execution_count": 5,
   "id": "a79a2a7d-9c02-462d-aa88-87d5f6ea3e04",
   "metadata": {},
   "outputs": [
    {
     "name": "stdout",
     "output_type": "stream",
     "text": [
      "a= 43\n",
      "b= 34\n",
      "sub= 9\n"
     ]
    }
   ],
   "source": [
    "num1=43\n",
    "print(\"a=\",num1)\n",
    "num2=34\n",
    "print(\"b=\",num2)\n",
    "sub=num1-num2\n",
    "print(\"sub=\",sub)\n",
    "      \n",
    "      "
   ]
  },
  {
   "cell_type": "code",
   "execution_count": null,
   "id": "20325f5d-d4a8-4f48-afbf-dbfed8b4af56",
   "metadata": {},
   "outputs": [],
   "source": [
    "#multiplication"
   ]
  },
  {
   "cell_type": "code",
   "execution_count": 6,
   "id": "10ef399b-689d-4dc2-a679-3fbbcfc6d3ae",
   "metadata": {},
   "outputs": [
    {
     "name": "stdout",
     "output_type": "stream",
     "text": [
      "a= 63\n",
      "b= 97\n",
      "mul= 6111\n"
     ]
    }
   ],
   "source": [
    "num1=63\n",
    "print(\"a=\",num1)\n",
    "num2=97\n",
    "print(\"b=\",num2)\n",
    "mul=num1*num2\n",
    "print(\"mul=\",mul)"
   ]
  },
  {
   "cell_type": "code",
   "execution_count": null,
   "id": "a4efaf8e-efe5-44a6-9daa-94c207906065",
   "metadata": {},
   "outputs": [],
   "source": [
    "#Division"
   ]
  },
  {
   "cell_type": "code",
   "execution_count": 7,
   "id": "7d0d812e-2c26-4e98-af86-985e251d14d1",
   "metadata": {},
   "outputs": [
    {
     "name": "stdout",
     "output_type": "stream",
     "text": [
      "a= 76\n",
      "b= 31\n",
      "float div= 2.4516129032258065\n"
     ]
    }
   ],
   "source": [
    "num1=76\n",
    "print(\"a=\",num1)\n",
    "num2=31\n",
    "print(\"b=\",num2)\n",
    "div=num1/num2\n",
    "print(\"float div=\",div)"
   ]
  },
  {
   "cell_type": "code",
   "execution_count": 9,
   "id": "57baafc8-c5b1-45c9-88be-a2e27eed1426",
   "metadata": {},
   "outputs": [
    {
     "name": "stdout",
     "output_type": "stream",
     "text": [
      "a= 76\n",
      "b= 31\n",
      "floor div= 2\n"
     ]
    }
   ],
   "source": [
    "num1=76\n",
    "print(\"a=\",num1)\n",
    "num2=31\n",
    "print(\"b=\",num2)\n",
    "div=num1//num2\n",
    "print(\"floor div=\",div)"
   ]
  },
  {
   "cell_type": "code",
   "execution_count": null,
   "id": "3660e919-5be9-4397-a60d-991406056c61",
   "metadata": {},
   "outputs": [],
   "source": [
    "#modulo\n"
   ]
  },
  {
   "cell_type": "code",
   "execution_count": 10,
   "id": "a1293b40-7e07-4722-a5d3-a0fee3dbb26c",
   "metadata": {},
   "outputs": [
    {
     "name": "stdout",
     "output_type": "stream",
     "text": [
      "a= 76\n",
      "b= 31\n",
      "modulo= 14\n"
     ]
    }
   ],
   "source": [
    "num1=76\n",
    "print(\"a=\",num1)\n",
    "num2=31\n",
    "print(\"b=\",num2)\n",
    "mod=num1%num2\n",
    "print(\"modulo=\",mod)"
   ]
  },
  {
   "cell_type": "code",
   "execution_count": null,
   "id": "4c2765c2-ed21-49d4-8728-a236bcd9fcfe",
   "metadata": {},
   "outputs": [],
   "source": []
  }
 ],
 "metadata": {
  "kernelspec": {
   "display_name": "Python [conda env:base] *",
   "language": "python",
   "name": "conda-base-py"
  },
  "language_info": {
   "codemirror_mode": {
    "name": "ipython",
    "version": 3
   },
   "file_extension": ".py",
   "mimetype": "text/x-python",
   "name": "python",
   "nbconvert_exporter": "python",
   "pygments_lexer": "ipython3",
   "version": "3.13.5"
  }
 },
 "nbformat": 4,
 "nbformat_minor": 5
}
