{
 "cells": [
  {
   "cell_type": "code",
   "execution_count": 4,
   "id": "ac0bb2ac-8c85-4fa1-a96a-4f38e745a035",
   "metadata": {},
   "outputs": [
    {
     "name": "stdout",
     "output_type": "stream",
     "text": [
      "Subfields in AI are:\n",
      "Machine Learning\n",
      "Neural Networks\n",
      "Vision\n",
      "Robotics\n",
      "Speech Processing\n",
      "Natural Lnaguage Processing\n"
     ]
    }
   ],
   "source": [
    "#crete a class and function and list out the items in the list\n",
    "class SubfieldsInAI():\n",
    "    list=[\"Machine Learning\",\"Neural Networks\",\"Vision\",\"Robotics\",\"Speech Processing\",\"Natural Lnaguage Processing\"]\n",
    "    def subfields():\n",
    "        print(\"Subfields in AI are:\")\n",
    "        for fields in list:\n",
    "            print(fields)\n",
    "SubfieldsInAI.subfields()\n",
    "    \n"
   ]
  },
  {
   "cell_type": "code",
   "execution_count": 7,
   "id": "07479474-62eb-400c-a71c-a7c969efada9",
   "metadata": {},
   "outputs": [
    {
     "name": "stdin",
     "output_type": "stream",
     "text": [
      "Enter the number 52452\n"
     ]
    },
    {
     "name": "stdout",
     "output_type": "stream",
     "text": [
      "52452 is Even Number\n"
     ]
    }
   ],
   "source": [
    "#oddEven\n",
    "class oddEven():\n",
    "    def oddEven():\n",
    "        num=int(input(\"Enter the number\"))\n",
    "        if(num%2==0):\n",
    "            print(num,\"is Even Number\",)\n",
    "            message=num,\"is Even Nunber\"\n",
    "        else:\n",
    "            print(num,\" is Odd Number\",)\n",
    "            message=\"is Odd Number\"\n",
    "        return message\n",
    "message1=oddEven.oddEven()"
   ]
  },
  {
   "cell_type": "code",
   "execution_count": 11,
   "id": "1f362c3b-ab63-4a8c-ae18-ee0f8eb4fdfd",
   "metadata": {},
   "outputs": [
    {
     "name": "stdin",
     "output_type": "stream",
     "text": [
      "Your Gender: Male\n",
      "Your Age: 20\n"
     ]
    },
    {
     "name": "stdout",
     "output_type": "stream",
     "text": [
      "NOT ELIGIBLE\n"
     ]
    }
   ],
   "source": [
    "#eligibility\n",
    "class EligibilityForMarriage():\n",
    "    def eligible():\n",
    "        gender=input(\"Your Gender:\")\n",
    "        age=int(input(\"Your Age:\"))\n",
    "        if( gender==\"Male\"and age>=21):\n",
    "            print(\"ELIGIBLE\")\n",
    "            message=\"ELIGIBLE\"\n",
    "        elif(gender==\"Female\" and age>=18):\n",
    "            print(\"ELIGIBLE\")\n",
    "            message=\"ELIGIBLE\"\n",
    "        else:\n",
    "            print(\"NOT ELIGIBLE\")\n",
    "            message=\"NOT ELIGIBLE\"\n",
    "        return message\n",
    "              \n",
    "message1=EligibilityForMarriage.eligible()\n",
    "    "
   ]
  },
  {
   "cell_type": "code",
   "execution_count": 12,
   "id": "4aa5171f-6b20-4d8a-998d-5775a5601eba",
   "metadata": {},
   "outputs": [
    {
     "name": "stdin",
     "output_type": "stream",
     "text": [
      "Subject1= 98\n",
      "Subject2= 87\n",
      "Subject3= 95\n",
      "Subject4= 95\n",
      "Subject5= 93\n"
     ]
    },
    {
     "name": "stdout",
     "output_type": "stream",
     "text": [
      "Total= 468\n",
      "Percentage= 93.60000000000001\n"
     ]
    }
   ],
   "source": [
    "#percentage\n",
    "class FindPercent():\n",
    "    def percentage():\n",
    "        subject1=int(input(\"Subject1=\"))\n",
    "        subject2=int(input(\"Subject2=\"))\n",
    "        subject3=int(input(\"Subject3=\"))\n",
    "        subject4=int(input(\"Subject4=\"))\n",
    "        subject5=int(input(\"Subject5=\"))\n",
    "        Total=subject1+subject2+subject3+subject4+subject5\n",
    "        print(\"Total=\",Total)\n",
    "        max=500\n",
    "        percentage=(Total/max*100)\n",
    "        print(\"Percentage=\",percentage)\n",
    "FindPercent.percentage()\n",
    "    "
   ]
  },
  {
   "cell_type": "code",
   "execution_count": 14,
   "id": "3c0f1570-c5bb-4963-8f9f-db9d65850ec3",
   "metadata": {},
   "outputs": [
    {
     "name": "stdin",
     "output_type": "stream",
     "text": [
      "Height 32\n",
      "Breadth 34\n"
     ]
    },
    {
     "name": "stdout",
     "output_type": "stream",
     "text": [
      "Area Formula:(Height*Breadth)/2\n",
      "Area of Triangle: 544.0\n"
     ]
    },
    {
     "name": "stdin",
     "output_type": "stream",
     "text": [
      "Height1 2\n",
      "Height2 4\n",
      "Breadth 4\n"
     ]
    },
    {
     "name": "stdout",
     "output_type": "stream",
     "text": [
      "perimeter formula:height1+height2+breadth\n",
      "Perimeter of Triangle 10\n"
     ]
    }
   ],
   "source": [
    "class triangle():\n",
    "    \n",
    "    def triangle():\n",
    "        height=int(input(\"Height\"))\n",
    "        breadth=int(input(\"Breadth\"))\n",
    "        print(\"Area Formula:(Height*Breadth)/2\")\n",
    "        Area=(height*breadth)/2\n",
    "        print(\"Area of Triangle:\",Area)\n",
    "        message=\"Area of Triangle\",Area\n",
    "        height1=int(input(\"Height1\"))\n",
    "        height2=int(input(\"Height2\"))\n",
    "        breadth=int(input(\"Breadth\"))\n",
    "        print(\"perimeter formula:height1+height2+breadth\")\n",
    "        perimeter=height1+height2+breadth\n",
    "        print(\"Perimeter of Triangle\",perimeter)\n",
    "        message=\"perimeter of triangle\",perimeter\n",
    "        return message\n",
    "message1=triangle.triangle()"
   ]
  },
  {
   "cell_type": "code",
   "execution_count": null,
   "id": "5320a719-df00-4cd7-bf61-0a86f45a4862",
   "metadata": {},
   "outputs": [],
   "source": []
  }
 ],
 "metadata": {
  "kernelspec": {
   "display_name": "Python [conda env:base] *",
   "language": "python",
   "name": "conda-base-py"
  },
  "language_info": {
   "codemirror_mode": {
    "name": "ipython",
    "version": 3
   },
   "file_extension": ".py",
   "mimetype": "text/x-python",
   "name": "python",
   "nbconvert_exporter": "python",
   "pygments_lexer": "ipython3",
   "version": "3.13.5"
  }
 },
 "nbformat": 4,
 "nbformat_minor": 5
}
