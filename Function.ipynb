{
 "cells": [
  {
   "cell_type": "code",
   "execution_count": 6,
   "id": "a1761ee5-95cf-4a45-8cb8-c7b2540d39d2",
   "metadata": {},
   "outputs": [
    {
     "name": "stdout",
     "output_type": "stream",
     "text": [
      "Subfields in AI are:\n",
      "Machine Learning\n",
      "Neural Networks\n",
      "Vision\n",
      "Robotics\n",
      "Speech Processing\n",
      "Natural Lnaguage Processing\n"
     ]
    }
   ],
   "source": [
    "list=[\"Machine Learning\",\"Neural Networks\",\"Vision\",\"Robotics\",\"Speech Processing\",\"Natural Lnaguage Processing\"]\n",
    "def subfields():\n",
    "    print(\"Subfields in AI are:\")\n",
    "    for fields in list:\n",
    "        print(fields)\n",
    "subfields()\n"
   ]
  },
  {
   "cell_type": "code",
   "execution_count": null,
   "id": "d5305172-0007-420b-a1a1-a1d65bc6c4e1",
   "metadata": {},
   "outputs": [],
   "source": [
    "#odd Even"
   ]
  },
  {
   "cell_type": "code",
   "execution_count": 11,
   "id": "4e243f6e-096b-45ba-8e5f-2ec817153629",
   "metadata": {},
   "outputs": [
    {
     "name": "stdin",
     "output_type": "stream",
     "text": [
      "Enter the number 52452\n"
     ]
    },
    {
     "name": "stdout",
     "output_type": "stream",
     "text": [
      "52452 is Even Number\n"
     ]
    }
   ],
   "source": [
    "def oddEven():\n",
    "    num=int(input(\"Enter the number\"))\n",
    "    if(num%2==0):\n",
    "        print(num,\"is Even Number\",)\n",
    "        message=num,\"is Even Nunber\"\n",
    "    else:\n",
    "        print(num,\" is Odd Number\",)\n",
    "        message=\"is Odd Number\"\n",
    "    return message\n",
    "message1=oddEven()\n",
    "\n",
    "\n",
    "\n",
    "\n",
    "\n",
    "    \n",
    "\n",
    "   "
   ]
  },
  {
   "cell_type": "code",
   "execution_count": 24,
   "id": "af63013a-abfc-41ef-9b39-a3dbc3aeb237",
   "metadata": {},
   "outputs": [
    {
     "name": "stdin",
     "output_type": "stream",
     "text": [
      "Your Gender: Male\n",
      "Your Age: 20\n"
     ]
    },
    {
     "name": "stdout",
     "output_type": "stream",
     "text": [
      "NOT ELIGIBLE\n"
     ]
    }
   ],
   "source": [
    "\n",
    "#Eligibility of marriage\n",
    "def eligible():\n",
    "    gender=input(\"Your Gender:\")\n",
    "    age=int(input(\"Your Age:\"))\n",
    "    if( gender==\"Male\"and age>=21):\n",
    "        print(\"ELIGIBLE\")\n",
    "        message=\"ELIGIBLE\"\n",
    "    elif(gender==\"Female\" and age>=18):\n",
    "        print(\"ELIGIBLE\")\n",
    "        message=\"ELIGIBLE\"\n",
    "    else:\n",
    "        print(\"NOT ELIGIBLE\")\n",
    "        message=\"NOT ELIGIBLE\"\n",
    "    return message\n",
    "              \n",
    "message1=eligible()\n",
    "    \n",
    "        \n",
    "            \n",
    "        \n",
    "        "
   ]
  },
  {
   "cell_type": "code",
   "execution_count": 31,
   "id": "1615e355-36c8-41b9-a355-0518946d13f3",
   "metadata": {},
   "outputs": [
    {
     "name": "stdin",
     "output_type": "stream",
     "text": [
      "Subject1= 98\n",
      "Subject2= 87\n",
      "Subject3= 95\n",
      "Subject4= 95\n",
      "Subject5= 93\n"
     ]
    },
    {
     "name": "stdout",
     "output_type": "stream",
     "text": [
      "Total= 468\n",
      "Percentage= 93.60000000000001\n"
     ]
    }
   ],
   "source": [
    "#percentage\n",
    "def percentage():\n",
    "    subject1=int(input(\"Subject1=\"))\n",
    "    subject2=int(input(\"Subject2=\"))\n",
    "    subject3=int(input(\"Subject3=\"))\n",
    "    subject4=int(input(\"Subject4=\"))\n",
    "    subject5=int(input(\"Subject5=\"))\n",
    "    Total=subject1+subject2+subject3+subject4+subject5\n",
    "    print(\"Total=\",Total)\n",
    "    max=500\n",
    "    percentage=(Total/max*100)\n",
    "    print(\"Percentage=\",percentage)\n",
    "percentage()\n",
    "    \n",
    "\n"
   ]
  },
  {
   "cell_type": "code",
   "execution_count": 35,
   "id": "e2c1c462-1d79-497e-aabc-24ede670942e",
   "metadata": {},
   "outputs": [
    {
     "name": "stdin",
     "output_type": "stream",
     "text": [
      "Height 32\n",
      "Breadth 34\n"
     ]
    },
    {
     "name": "stdout",
     "output_type": "stream",
     "text": [
      "Area Formula:(Height*Breadth)/2\n",
      "Area of Triangle: 544.0\n"
     ]
    },
    {
     "name": "stdin",
     "output_type": "stream",
     "text": [
      "Height1 2\n",
      "Height2 4\n",
      "Breadth 4\n"
     ]
    },
    {
     "name": "stdout",
     "output_type": "stream",
     "text": [
      "perimeter formula:height1+height2+breadth\n",
      "Perimeter of Triangle 10\n"
     ]
    }
   ],
   "source": [
    "def triangle():\n",
    "    height=int(input(\"Height\"))\n",
    "    breadth=int(input(\"Breadth\"))\n",
    "    print(\"Area Formula:(Height*Breadth)/2\")\n",
    "    Area=(height*breadth)/2\n",
    "    print(\"Area of Triangle:\",Area)\n",
    "    message=\"Area of Triangle\",Area\n",
    "    height1=int(input(\"Height1\"))\n",
    "    height2=int(input(\"Height2\"))\n",
    "    breadth=int(input(\"Breadth\"))\n",
    "    print(\"perimeter formula:height1+height2+breadth\")\n",
    "    perimeter=height1+height2+breadth\n",
    "    print(\"Perimeter of Triangle\",perimeter)\n",
    "    message=\"perimeter of triangle\",perimeter\n",
    "    return message\n",
    "message1=triangle()\n",
    "    \n",
    "\n",
    "    \n",
    "    "
   ]
  },
  {
   "cell_type": "code",
   "execution_count": null,
   "id": "5308bcd5-dad5-4683-915d-730c49074bae",
   "metadata": {},
   "outputs": [],
   "source": []
  }
 ],
 "metadata": {
  "kernelspec": {
   "display_name": "Python [conda env:base] *",
   "language": "python",
   "name": "conda-base-py"
  },
  "language_info": {
   "codemirror_mode": {
    "name": "ipython",
    "version": 3
   },
   "file_extension": ".py",
   "mimetype": "text/x-python",
   "name": "python",
   "nbconvert_exporter": "python",
   "pygments_lexer": "ipython3",
   "version": "3.13.5"
  }
 },
 "nbformat": 4,
 "nbformat_minor": 5
}
