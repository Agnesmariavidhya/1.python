{
 "cells": [
  {
   "cell_type": "code",
   "execution_count": 5,
   "id": "09592593-0b95-457d-ad6c-0e43ae414abe",
   "metadata": {},
   "outputs": [
    {
     "name": "stdin",
     "output_type": "stream",
     "text": [
      "value: 10\n"
     ]
    },
    {
     "name": "stdout",
     "output_type": "stream",
     "text": [
      "correct\n"
     ]
    }
   ],
   "source": [
    "#print correct  if i ==10\n",
    "i=int(input(\"value:\"))\n",
    "if(i==10):\n",
    "    print(\"correct\")\n",
    "else:\n",
    "    print(\"wrong\")\n",
    "\n",
    "    "
   ]
  },
  {
   "cell_type": "code",
   "execution_count": 17,
   "id": "692bd427-bdc4-4c33-ab62-f8f37fee5c9c",
   "metadata": {},
   "outputs": [
    {
     "name": "stdin",
     "output_type": "stream",
     "text": [
      "Enter the password: HOPE@123\n"
     ]
    },
    {
     "name": "stdout",
     "output_type": "stream",
     "text": [
      "your password is correct\n"
     ]
    }
   ],
   "source": [
    "#check the password using if and else\n",
    "word=\"HOPE@123\"\n",
    "word1=input(\"Enter the password:\")\n",
    "if (word1==word):\n",
    "    print(\"your password is correct\")\n",
    "else:\n",
    "    print(\"wrong\")\n",
    "\n",
    "\n",
    "\n",
    "\n",
    "    \n",
    "    "
   ]
  },
  {
   "cell_type": "code",
   "execution_count": 18,
   "id": "a345fa23-6b3f-47ba-8ec5-4e7e4587661b",
   "metadata": {},
   "outputs": [
    {
     "name": "stdin",
     "output_type": "stream",
     "text": [
      "Enter any number 1\n"
     ]
    },
    {
     "name": "stdout",
     "output_type": "stream",
     "text": [
      "no is positive\n"
     ]
    }
   ],
   "source": [
    "#find whether given number is positive or negative\n",
    "num=int(input(\"Enter any number\"))\n",
    "if(num>0):\n",
    "    print(\"no is positive\")\n",
    "elif(num<0):\n",
    "    print(\"no is negative\")\n",
    "else:\n",
    "    print(\"neutral\")"
   ]
  },
  {
   "cell_type": "code",
   "execution_count": 21,
   "id": "fc15e230-c954-4ab3-baa8-f42756215efc",
   "metadata": {},
   "outputs": [
    {
     "name": "stdin",
     "output_type": "stream",
     "text": [
      "Enter the number 22\n"
     ]
    },
    {
     "name": "stdout",
     "output_type": "stream",
     "text": [
      "No it is not divisible by 5\n"
     ]
    }
   ],
   "source": [
    "#check whether the given number is divisible by 5\n",
    "num=int(input(\"Enter the number\"))\n",
    "if(num/5==0):\n",
    "    print(\"Yes it is divisble by 5\")\n",
    "else:\n",
    "    print(\"No it is not divisible by 5\")"
   ]
  },
  {
   "cell_type": "code",
   "execution_count": null,
   "id": "f687077a-2d4c-43fb-be94-017f4a490282",
   "metadata": {},
   "outputs": [],
   "source": []
  },
  {
   "cell_type": "code",
   "execution_count": null,
   "id": "329c38d8-d2f9-471e-b568-d9a7d916dbca",
   "metadata": {},
   "outputs": [],
   "source": []
  }
 ],
 "metadata": {
  "kernelspec": {
   "display_name": "Python [conda env:base] *",
   "language": "python",
   "name": "conda-base-py"
  },
  "language_info": {
   "codemirror_mode": {
    "name": "ipython",
    "version": 3
   },
   "file_extension": ".py",
   "mimetype": "text/x-python",
   "name": "python",
   "nbconvert_exporter": "python",
   "pygments_lexer": "ipython3",
   "version": "3.13.5"
  }
 },
 "nbformat": 4,
 "nbformat_minor": 5
}
